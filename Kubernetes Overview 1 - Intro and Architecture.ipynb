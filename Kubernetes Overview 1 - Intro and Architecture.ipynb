{
 "cells": [
  {
   "cell_type": "markdown",
   "metadata": {
    "deletable": true,
    "editable": true
   },
   "source": [
    "# Kubernetes\n",
    "## Overview\n",
    "An oversimplified definition of kubernetes is an **Open Source Container Cluster manager**.\n",
    "\n",
    "It was released by Google (\"donated\") in 2015 as Open Source code after the newly formed Cloud Native Computing foundation established in partnership with the linux foundation."
   ]
  },
  {
   "cell_type": "markdown",
   "metadata": {
    "deletable": true,
    "editable": true
   },
   "source": [
    "## Architecture\n",
    "Building blocks of kubernetes:\n",
    "* Notes\n",
    "* Pods\n",
    "* Labels\n",
    "* Selectors\n",
    "* Controllers\n",
    "* Services\n",
    "* Control Pane\n",
    "* API\n",
    "\n",
    "Master controller can have 1-N pods, and 1-N containers.\n",
    "\n",
    "Each Minion needs to run docker, or some sort of container management system."
   ]
  },
  {
   "cell_type": "markdown",
   "metadata": {},
   "source": [
    "## Minions\n",
    "These are container clients. Individual hosts (physical or virtual) that docker is installed on and hosts the various containers within your managed cluster.\n",
    "\n",
    "Each Minion will run ETCD (a key management and communication service, used by kubernetes for exchanging messages and reporting on cluster status) as well as the kubernetes proxy."
   ]
  },
  {
   "cell_type": "markdown",
   "metadata": {},
   "source": [
    "## Pods\n",
    "\n",
    "Consists of one or more containers.\n",
    "\n",
    "Those containers are guaranteed by the cluster controller to be located on the same host machine in order to facilitate sharing of resources.\n",
    "\n",
    "Pods are assigned unique IPs within each cluster. These allows an applciation to use ports without having to worry about conflicting port utilization.\n",
    "\n",
    "Pods can contain definitions of disk volumes or share and then provide access from those to all members (container) within the pod.\n",
    "\n",
    "Finally, pod management is done through the API or delegate to a controller."
   ]
  },
  {
   "cell_type": "markdown",
   "metadata": {},
   "source": [
    "## Labels\n",
    "Clients can attach key values to any object in the system (pods/minions).\n",
    "\n",
    "### Selectors\n",
    "Represent queries that are made against those labels\n",
    "\n",
    "These two items are the primary way that grouping is done in kubernetes and determine which components that a given operation applies to when indicated.\n",
    "\n"
   ]
  },
  {
   "cell_type": "markdown",
   "metadata": {},
   "source": [
    "## Controllers\n",
    "Used for manager of cluster.\n",
    "\n",
    "Controllers are mechanism by which desired configuration state is enforced.\n",
    "\n",
    "Controllers manage a set of pods and, depending on the desired configuration state, may engage other controllers to handle replication and scaling (REplication controller) of XX number of containers and pods across the cluster. It is also responsible for replacing any container in a pod that fails (based on the desired state)\n",
    "\n",
    "Other controlers can be engaged include a daemonsoft controller and a job controller.\n",
    "\n",
    "Each set of pods any controller manages is determined by the label selectors that are part of its definition."
   ]
  },
  {
   "cell_type": "markdown",
   "metadata": {},
   "source": [
    "## Services\n",
    "POd contains of 1 or more containers.\n",
    "\n",
    "Containers are guaranteed by the cluster controller to be located in same host machine in order to facilitate sharing of resources.\n",
    "\n",
    "This is so can pods can work together, like in a mmulti-tiered applciation configuration.\n",
    "\n",
    "Eahc set of pods that deifine and implement a service like MySQL or apache are defined by the label selector\n",
    "\n",
    "Kubernetes can then provide service discovery and handle routing with the static IP of each pod as well as load balancing connections to that service among the pods that match the label selector indicated.\n",
    "\n",
    "By defaul although a service is only exposed inside a cluster it can also be exposed outside a cluster if needed"
   ]
  }
 ],
 "metadata": {
  "kernelspec": {
   "display_name": "Bash",
   "language": "bash",
   "name": "bash"
  },
  "language_info": {
   "codemirror_mode": "shell",
   "file_extension": ".sh",
   "mimetype": "text/x-sh",
   "name": "bash"
  }
 },
 "nbformat": 4,
 "nbformat_minor": 2
}
