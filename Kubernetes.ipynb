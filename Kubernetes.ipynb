{
 "cells": [
  {
   "cell_type": "markdown",
   "metadata": {},
   "source": [
    "# Kubernetes\n",
    "## Overview\n",
    "An oversimplified definition of kubernetes is an **Open Source Container Cluster manager**.\n",
    "\n",
    "It was released by Google (\"donated\") in 2015 as Open Source code after the newly formed Cloud Native Computing foundation established in partnership with the linux foundation."
   ]
  },
  {
   "cell_type": "markdown",
   "metadata": {},
   "source": [
    "## Architecture\n",
    "Building blocks of kubernetes:\n",
    "* Notes\n",
    "* Pods\n",
    "* Labels\n",
    "* Selectors\n",
    "* Controllers\n",
    "* Services\n",
    "* Control Pane\n",
    "* API\n",
    "\n",
    "Master controller can have 1-N pods, and 1-N containers.\n",
    "\n",
    "Each Minion needs to run a docker"
   ]
  },
  {
   "cell_type": "code",
   "execution_count": null,
   "metadata": {
    "collapsed": true
   },
   "outputs": [],
   "source": [
    "ls -a"
   ]
  },
  {
   "cell_type": "code",
   "execution_count": null,
   "metadata": {
    "collapsed": true
   },
   "outputs": [],
   "source": []
  }
 ],
 "metadata": {
  "kernelspec": {
   "display_name": "Bash",
   "language": "bash",
   "name": "bash"
  }
 },
 "nbformat": 4,
 "nbformat_minor": 2
}
