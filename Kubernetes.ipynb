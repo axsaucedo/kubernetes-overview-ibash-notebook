{
 "cells": [
  {
   "cell_type": "markdown",
   "metadata": {
    "deletable": true,
    "editable": true
   },
   "source": [
    "# Kubernetes\n",
    "## Overview\n",
    "An oversimplified definition of kubernetes is an **Open Source Container Cluster manager**.\n",
    "\n",
    "It was released by Google (\"donated\") in 2015 as Open Source code after the newly formed Cloud Native Computing foundation established in partnership with the linux foundation."
   ]
  },
  {
   "cell_type": "markdown",
   "metadata": {
    "deletable": true,
    "editable": true
   },
   "source": [
    "## Architecture\n",
    "Building blocks of kubernetes:\n",
    "* Notes\n",
    "* Pods\n",
    "* Labels\n",
    "* Selectors\n",
    "* Controllers\n",
    "* Services\n",
    "* Control Pane\n",
    "* API\n",
    "\n",
    "Master controller can have 1-N pods, and 1-N containers.\n",
    "\n",
    "Each Minion needs to run docker, or some sort of container management system."
   ]
  },
  {
   "cell_type": "markdown",
   "metadata": {},
   "source": [
    "## Minions\n",
    "These are container clients. Individual hosts (physical or virtual) that docker is installed on and hosts the various containers within your managed cluster.\n",
    "\n",
    "Each Minion will run ETCD (a key management and communication service, used by kubernetes for exchanging messages and reporting on cluster status) as well as the kubernetes proxy."
   ]
  },
  {
   "cell_type": "markdown",
   "metadata": {},
   "source": [
    "## Pods\n",
    "\n",
    "Consists of one or more containers.\n",
    "\n",
    "Those containers are guaranteed by the cluster controller to be located on the same host machine in order to facilitate sharing of resources.\n",
    "\n",
    "Pods are assigned unique IPs within each cluster. These allows an applciation to use ports without having to worry about conflicting port utilization.\n",
    "\n",
    "Pods can contain definitions of disk volumes or share and then provide access from those to all members (container) within the pod.\n",
    "\n",
    "Finally, pod management is done through the API or delegate to a controller."
   ]
  },
  {
   "cell_type": "markdown",
   "metadata": {},
   "source": []
  }
 ],
 "metadata": {
  "kernelspec": {
   "display_name": "Bash",
   "language": "bash",
   "name": "bash"
  },
  "language_info": {
   "codemirror_mode": "shell",
   "file_extension": ".sh",
   "mimetype": "text/x-sh",
   "name": "bash"
  }
 },
 "nbformat": 4,
 "nbformat_minor": 2
}
